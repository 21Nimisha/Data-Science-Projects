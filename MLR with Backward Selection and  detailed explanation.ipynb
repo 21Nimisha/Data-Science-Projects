{
 "cells": [
  {
   "cell_type": "markdown",
   "metadata": {},
   "source": [
    "# Multiple Linear Regression\n",
    "\n",
    "y = bo + b1x1 + b2x2 + .... + bn*xn\n",
    "\n",
    "ASSUMPTIONS OF LINEAR REGRESSION -\n",
    "\n",
    "1 - Linearity\n",
    "\n",
    "2- Homoscedasticity\n",
    "\n",
    "3 - Multivariate Normality\n",
    "\n",
    "4- Independence of Errors\n",
    "\n",
    "5- lack of Multicollinearity"
   ]
  },
  {
   "cell_type": "markdown",
   "metadata": {},
   "source": [
    "# Dummy Variables\n",
    "In my data (50 Startup) State in categorical form. so i will use dummy variable to convert them into numerical data. as in regression only quantitive data work. if state - California , newyork - I create 2 dummy variable 1 for california and 0 for newyork.\n",
    "\n",
    "# Dummy variable Trap -\n",
    "never include all dummy variable in data as it will duplicate the varibale. because D2 = 1- D1 we can not have 3 elements in modle same time -\n",
    "Bo - The constant\n",
    "\n",
    "                                             b4 * D1 -  Dummy varibale One\n",
    "\n",
    "                                             b5 * D2 - Dummy variable Two\n",
    "Always OMIT one Dummy Variable. If in dataset there is 10 dummy variable then keep only 9."
   ]
  },
  {
   "cell_type": "markdown",
   "metadata": {},
   "source": [
    "# P - Value\n",
    "Small P - value means reject the Null - Hypothesis H0 The p- value is the probability that, If the null hypothesis were true, sampling variation would produce an estimate that is further away from the hypothesised value than our data estimate.\n",
    "\n",
    "The p- value tells us how likely it is to get a result like this if the Null - Hypothesis is true.\n",
    "\n",
    "Example -\n",
    "Ho - The mean of average weight of peanuts in a packet is 70grams.\n",
    "\n",
    "H1 - The mean of average weight of peanuts in a packet is less than 70 grams.\n",
    "\n",
    "H1 what we trying to prove ?\n",
    "\n",
    "Significant Level : ALPHA = 0.05\n",
    "\n",
    "if P- value is less than alpha value 0.05 REJECT NULL HYPOTHESIS Ho."
   ]
  },
  {
   "cell_type": "markdown",
   "metadata": {},
   "source": [
    "# Building a Model\n",
    "1 - Select required variable for building model not all variable .\n",
    "\n",
    "WHY -\n",
    "\n",
    "1 - Garbage In Garbage Out\n",
    "\n",
    "2- Not easy to explain and very complicated model.\n",
    "\n",
    "5 Methods of Building a Model\n",
    "1- All - in\n",
    "\n",
    "2 - Backward Elimination\n",
    "\n",
    "3- Forward Selection\n",
    "\n",
    "4- Bidirectional Elimination\n",
    "\n",
    "5- Score Comparison"
   ]
  },
  {
   "cell_type": "markdown",
   "metadata": {},
   "source": [
    "# Feature Selection -\n",
    "real world data is noisy, and may contain features (variables)\n",
    "that do not necessarily have good correlation with with the output (predicted/dependent) variable. \n",
    "The idea behind ‘Feature selection’ is to study this relation, \n",
    "and select only the variables that show a strong correlation.\n",
    "\n",
    "There are many different kinds of Feature Selections methods —\n",
    "Forward Selection,\n",
    "Recursive Feature Elimination,\n",
    "Bidirectional elimination and\n",
    "Backward elimination. The simplest and the widely used one is Backward elimination."
   ]
  },
  {
   "cell_type": "markdown",
   "metadata": {},
   "source": [
    "# Backward Elimination -\n",
    "1 - Select a significance (SL) level to stay in the model (eg - Sl = 0.05)\n",
    "\n",
    "2- fit the full model with all possible predictors\n",
    "\n",
    "3- Consider the predictor with the highest P- value. if P > Sl, go to step 4, otherwise go to FINISH..\n",
    "\n",
    "4- Remove the predictor. (that have higher p value)\n",
    "\n",
    "5- Fit the model without the variable (variable with higher p value)\n",
    "\n",
    "Rebuild the model as coefficient , constant going be different after removing variable with higher p- value. go back to step 3 once again, again look for the variable wtith highest p- value in new model , if any remove that , fit the model again. Keep doing until all variable that left p - value are less than significant level, Model prepared"
   ]
  },
  {
   "cell_type": "markdown",
   "metadata": {},
   "source": [
    "# Forward Selection -\n",
    "1 - select a significant level to enter the model ( eg= Sl = 0.05)\n",
    "\n",
    "2 - Fit all the simple regression models y ~ xn select the one with the lowest p - value. (take dependent variable and take every single independent variable we have y ~ xn)then select which one have lowest p value for IV.\n",
    "\n",
    "3- keep this variable and fit all possible models with one extra predictor added to one you already have.\n",
    "\n",
    "4- consider the predictor with the Lowest P value. if p- value < Sl, go to step 3 otherwise finish."
   ]
  },
  {
   "cell_type": "code",
   "execution_count": 3,
   "metadata": {},
   "outputs": [],
   "source": [
    "# I will use feature selection methods — Backward Elimination"
   ]
  },
  {
   "cell_type": "code",
   "execution_count": 4,
   "metadata": {},
   "outputs": [
    {
     "name": "stdout",
     "output_type": "stream",
     "text": [
      "   R&D Spend  Administration  Marketing Spend       State     Profit\n",
      "0  165349.20       136897.80        471784.10    New York  192261.83\n",
      "1  162597.70       151377.59        443898.53  California  191792.06\n",
      "2  153441.51       101145.55        407934.54     Florida  191050.39\n",
      "3  144372.41       118671.85        383199.62    New York  182901.99\n",
      "4  142107.34        91391.77        366168.42     Florida  166187.94\n"
     ]
    }
   ],
   "source": [
    "import pandas as pd\n",
    "data = pd.read_csv('50_Startups.csv')\n",
    "print(data.head())"
   ]
  },
  {
   "cell_type": "code",
   "execution_count": 5,
   "metadata": {},
   "outputs": [
    {
     "name": "stdout",
     "output_type": "stream",
     "text": [
      "<class 'pandas.core.frame.DataFrame'>\n",
      "RangeIndex: 50 entries, 0 to 49\n",
      "Data columns (total 5 columns):\n",
      "R&D Spend          50 non-null float64\n",
      "Administration     50 non-null float64\n",
      "Marketing Spend    50 non-null float64\n",
      "State              50 non-null object\n",
      "Profit             50 non-null float64\n",
      "dtypes: float64(4), object(1)\n",
      "memory usage: 2.0+ KB\n"
     ]
    }
   ],
   "source": [
    "data.info()"
   ]
  },
  {
   "cell_type": "markdown",
   "metadata": {},
   "source": [
    "Our data has 4 features — ‘R&D Spend’,‘Administration’,‘Marketing Spend’ and ‘State’. Given these, we have to predict the ‘Profit’."
   ]
  },
  {
   "cell_type": "code",
   "execution_count": 7,
   "metadata": {},
   "outputs": [
    {
     "data": {
      "text/html": [
       "<div>\n",
       "<style scoped>\n",
       "    .dataframe tbody tr th:only-of-type {\n",
       "        vertical-align: middle;\n",
       "    }\n",
       "\n",
       "    .dataframe tbody tr th {\n",
       "        vertical-align: top;\n",
       "    }\n",
       "\n",
       "    .dataframe thead th {\n",
       "        text-align: right;\n",
       "    }\n",
       "</style>\n",
       "<table border=\"1\" class=\"dataframe\">\n",
       "  <thead>\n",
       "    <tr style=\"text-align: right;\">\n",
       "      <th></th>\n",
       "      <th>R&amp;D Spend</th>\n",
       "      <th>Administration</th>\n",
       "      <th>Marketing Spend</th>\n",
       "      <th>Profit</th>\n",
       "    </tr>\n",
       "  </thead>\n",
       "  <tbody>\n",
       "    <tr>\n",
       "      <th>R&amp;D Spend</th>\n",
       "      <td>1.000000</td>\n",
       "      <td>0.241955</td>\n",
       "      <td>0.724248</td>\n",
       "      <td>0.972900</td>\n",
       "    </tr>\n",
       "    <tr>\n",
       "      <th>Administration</th>\n",
       "      <td>0.241955</td>\n",
       "      <td>1.000000</td>\n",
       "      <td>-0.032154</td>\n",
       "      <td>0.200717</td>\n",
       "    </tr>\n",
       "    <tr>\n",
       "      <th>Marketing Spend</th>\n",
       "      <td>0.724248</td>\n",
       "      <td>-0.032154</td>\n",
       "      <td>1.000000</td>\n",
       "      <td>0.747766</td>\n",
       "    </tr>\n",
       "    <tr>\n",
       "      <th>Profit</th>\n",
       "      <td>0.972900</td>\n",
       "      <td>0.200717</td>\n",
       "      <td>0.747766</td>\n",
       "      <td>1.000000</td>\n",
       "    </tr>\n",
       "  </tbody>\n",
       "</table>\n",
       "</div>"
      ],
      "text/plain": [
       "                 R&D Spend  Administration  Marketing Spend    Profit\n",
       "R&D Spend         1.000000        0.241955         0.724248  0.972900\n",
       "Administration    0.241955        1.000000        -0.032154  0.200717\n",
       "Marketing Spend   0.724248       -0.032154         1.000000  0.747766\n",
       "Profit            0.972900        0.200717         0.747766  1.000000"
      ]
     },
     "execution_count": 7,
     "metadata": {},
     "output_type": "execute_result"
    }
   ],
   "source": [
    "corr = data.corr()\n",
    "corr"
   ]
  },
  {
   "cell_type": "code",
   "execution_count": 9,
   "metadata": {},
   "outputs": [
    {
     "data": {
      "text/plain": [
       "<matplotlib.axes._subplots.AxesSubplot at 0x2ac1f6d4780>"
      ]
     },
     "execution_count": 9,
     "metadata": {},
     "output_type": "execute_result"
    },
    {
     "data": {
      "image/png": "[encoded data removed]",
      "text/plain": [
       "<Figure size 432x288 with 2 Axes>"
      ]
     },
     "metadata": {
      "needs_background": "light"
     },
     "output_type": "display_data"
    }
   ],
   "source": [
    "import seaborn as sns\n",
    "sns.heatmap(corr, annot = True)"
   ]
  },
  {
   "cell_type": "markdown",
   "metadata": {},
   "source": [
    "Now, we store the dataframe in 2 numpy arrays — X and y:"
   ]
  },
  {
   "cell_type": "code",
   "execution_count": 10,
   "metadata": {},
   "outputs": [],
   "source": [
    "X = data.iloc[:, :-1].values\n",
    "y = data.iloc[:, -1].values"
   ]
  },
  {
   "cell_type": "markdown",
   "metadata": {},
   "source": [
    "# Data Preprocessing"
   ]
  },
  {
   "cell_type": "markdown",
   "metadata": {},
   "source": [
    "To begin with, we One-hot encode ‘State’, as it is a categorical feature."
   ]
  },
  {
   "cell_type": "code",
   "execution_count": 11,
   "metadata": {},
   "outputs": [
    {
     "name": "stderr",
     "output_type": "stream",
     "text": [
      "C:\\Users\\Public\\Anaconda3\\lib\\site-packages\\sklearn\\preprocessing\\_encoders.py:415: FutureWarning: The handling of integer data will change in version 0.22. Currently, the categories are determined based on the range [0, max(values)], while in the future they will be determined based on the unique values.\n",
      "If you want the future behaviour and silence this warning, you can specify \"categories='auto'\".\n",
      "In case you used a LabelEncoder before this OneHotEncoder to convert the categories to integers, then you can now use the OneHotEncoder directly.\n",
      "  warnings.warn(msg, FutureWarning)\n",
      "C:\\Users\\Public\\Anaconda3\\lib\\site-packages\\sklearn\\preprocessing\\_encoders.py:451: DeprecationWarning: The 'categorical_features' keyword is deprecated in version 0.20 and will be removed in 0.22. You can use the ColumnTransformer instead.\n",
      "  \"use the ColumnTransformer instead.\", DeprecationWarning)\n"
     ]
    }
   ],
   "source": [
    "from sklearn.preprocessing import LabelEncoder,OneHotEncoder\n",
    "labelencoder = LabelEncoder()\n",
    "X[:, -1] = labelencoder.fit_transform(X[:, -1])\n",
    "onehotencoder = OneHotEncoder(categorical_features = [-1])\n",
    "X = onehotencoder.fit_transform(X).toarray()"
   ]
  },
  {
   "cell_type": "markdown",
   "metadata": {},
   "source": [
    "Now that the categorical variable ‘State’ has been One-Hot encoded, we normalize ‘R&D Spend’,‘Administration’ and ‘Marketing Spend’ with Sklearn’s ‘StandardScaler’ library. But before that, we split the training and testing data. We fit the scaler on training data, and transform the testing data with this scaler."
   ]
  },
  {
   "cell_type": "code",
   "execution_count": 13,
   "metadata": {},
   "outputs": [],
   "source": [
    "from sklearn.model_selection import train_test_split\n",
    "X_train, X_test, Y_train, Y_test = train_test_split(X, y, test_size = 0.2, random_state = 0)\n",
    "\n"
   ]
  },
  {
   "cell_type": "code",
   "execution_count": 14,
   "metadata": {},
   "outputs": [],
   "source": [
    "# Now, we perform normalization:"
   ]
  },
  {
   "cell_type": "code",
   "execution_count": 15,
   "metadata": {},
   "outputs": [],
   "source": [
    "from sklearn.preprocessing import StandardScaler\n",
    "scaler = StandardScaler()\n",
    "X_train[:,3:] = scaler.fit_transform(X_train[:,3:])\n",
    "X_test[:,3:] = scaler.transform(X_test[:,3:])"
   ]
  },
  {
   "cell_type": "markdown",
   "metadata": {},
   "source": [
    "Now that all our data has been preprocessed, let’s begin with Backward Elimination. Let’s build a simple regression model and check its score. Later we’ll see how we can improve it with Backward Elimination."
   ]
  },
  {
   "cell_type": "code",
   "execution_count": 16,
   "metadata": {},
   "outputs": [
    {
     "name": "stdout",
     "output_type": "stream",
     "text": [
      "0.9347068473282425\n"
     ]
    }
   ],
   "source": [
    "from sklearn.linear_model import LinearRegression\n",
    "model = LinearRegression()\n",
    "model.fit(X_train,Y_train)\n",
    "print(model.score(X_test,Y_test))"
   ]
  },
  {
   "cell_type": "markdown",
   "metadata": {},
   "source": [
    "The score seems great. Before we begin with Backward elimination, we need to append ‘1’ at the beginning of our data set. Now, why is this important?\n",
    "The equation of our line (or rather, plane) is y=b+m1.x1+m2.x2+m3.x3+m4.x4."
   ]
  },
  {
   "cell_type": "markdown",
   "metadata": {},
   "source": [
    "When we make a linear model with sklearn, the bias term ‘b’ is calculated separately. However, for performing Backward elimination, we are required to use the linear model provided by statsmodels library — which does not consider the bias term. Hence, by adding a dummy feature with value as ‘1’, our equation becomes y=b.x0+m1.x1+m2.x2+m3.x3+m4.x4 where x0 = 1."
   ]
  },
  {
   "cell_type": "code",
   "execution_count": 17,
   "metadata": {},
   "outputs": [],
   "source": [
    "import numpy as np\n",
    "X_train = np.append (arr=np.ones([X_train.shape[0],1]).astype(int), values = X_train, axis = 1)"
   ]
  },
  {
   "cell_type": "markdown",
   "metadata": {},
   "source": [
    "Now that our data has been preprocessed according to statsmodels library, we begin with analysing the ‘P-value’ of each feature once a linear model is built. We keep a track of the required features in a new array — ‘X_opt;\n",
    "\n",
    "NOTE: Initially, we had 4 features. Now, we have 7 features – 3 numerical, 3 binary (after One-Hot encoding) and a dummy feature with value 1.\n"
   ]
  },
  {
   "cell_type": "code",
   "execution_count": 20,
   "metadata": {},
   "outputs": [
    {
     "name": "stdout",
     "output_type": "stream",
     "text": [
      "                            OLS Regression Results                            \n",
      "==============================================================================\n",
      "Dep. Variable:                      y   R-squared:                       0.950\n",
      "Model:                            OLS   Adj. R-squared:                  0.943\n",
      "Method:                 Least Squares   F-statistic:                     129.7\n",
      "Date:                Fri, 15 Nov 2019   Prob (F-statistic):           3.91e-21\n",
      "Time:                        00:41:08   Log-Likelihood:                -421.10\n",
      "No. Observations:                  40   AIC:                             854.2\n",
      "Df Residuals:                      34   BIC:                             864.3\n",
      "Df Model:                           5                                         \n",
      "Covariance Type:            nonrobust                                         \n",
      "==============================================================================\n",
      "                 coef    std err          t      P>|t|      [0.025      0.975]\n",
      "------------------------------------------------------------------------------\n",
      "const       8.202e+04   1185.723     69.170      0.000    7.96e+04    8.44e+04\n",
      "x1          2.743e+04   2129.481     12.879      0.000    2.31e+04    3.18e+04\n",
      "x2          2.647e+04   2569.235     10.301      0.000    2.12e+04    3.17e+04\n",
      "x3          2.812e+04   2267.882     12.401      0.000    2.35e+04    3.27e+04\n",
      "x4          3.573e+04   2547.324     14.025      0.000    3.05e+04    4.09e+04\n",
      "x5           851.3016   1720.699      0.495      0.624   -2645.580    4348.183\n",
      "x6          4519.8828   2398.520      1.884      0.068    -354.495    9394.261\n",
      "==============================================================================\n",
      "Omnibus:                       15.823   Durbin-Watson:                   2.468\n",
      "Prob(Omnibus):                  0.000   Jarque-Bera (JB):               23.231\n",
      "Skew:                          -1.094   Prob(JB):                     9.03e-06\n",
      "Kurtosis:                       6.025   Cond. No.                     1.82e+16\n",
      "==============================================================================\n",
      "\n",
      "Warnings:\n",
      "[1] Standard Errors assume that the covariance matrix of the errors is correctly specified.\n",
      "[2] The smallest eigenvalue is 2.22e-31. This might indicate that there are\n",
      "strong multicollinearity problems or that the design matrix is singular.\n"
     ]
    }
   ],
   "source": [
    "import statsmodels.formula.api as smf\n",
    "import statsmodels.api as sm\n",
    "X_opt = [0,1,2,3,4,5,6]\n",
    "regressor = sm.OLS(Y_train, X_train[:,X_opt]).fit()\n",
    "print(regressor.summary())"
   ]
  },
  {
   "cell_type": "markdown",
   "metadata": {},
   "source": [
    "OLS stands for ‘Ordinary Least Squares’, which essentially trains a Linear model. From the summary, we observe that the higest P-value is for feature 5, which is way over our significance level of 0.05. Hence, we remove it."
   ]
  },
  {
   "cell_type": "code",
   "execution_count": 21,
   "metadata": {},
   "outputs": [
    {
     "name": "stdout",
     "output_type": "stream",
     "text": [
      "                            OLS Regression Results                            \n",
      "==============================================================================\n",
      "Dep. Variable:                      y   R-squared:                       0.950\n",
      "Model:                            OLS   Adj. R-squared:                  0.944\n",
      "Method:                 Least Squares   F-statistic:                     165.6\n",
      "Date:                Fri, 15 Nov 2019   Prob (F-statistic):           3.19e-22\n",
      "Time:                        00:42:21   Log-Likelihood:                -421.24\n",
      "No. Observations:                  40   AIC:                             852.5\n",
      "Df Residuals:                      35   BIC:                             860.9\n",
      "Df Model:                           4                                         \n",
      "Covariance Type:            nonrobust                                         \n",
      "==============================================================================\n",
      "                 coef    std err          t      P>|t|      [0.025      0.975]\n",
      "------------------------------------------------------------------------------\n",
      "const       8.203e+04   1172.687     69.947      0.000    7.96e+04    8.44e+04\n",
      "x1          2.743e+04   2106.330     13.024      0.000    2.32e+04    3.17e+04\n",
      "x2          2.661e+04   2525.870     10.533      0.000    2.15e+04    3.17e+04\n",
      "x3          2.799e+04   2226.402     12.571      0.000    2.35e+04    3.25e+04\n",
      "x4          3.627e+04   2277.386     15.924      0.000    3.16e+04    4.09e+04\n",
      "x5          4192.2658   2280.289      1.838      0.074    -436.966    8821.498\n",
      "==============================================================================\n",
      "Omnibus:                       14.873   Durbin-Watson:                   2.511\n",
      "Prob(Omnibus):                  0.001   Jarque-Bera (JB):               21.150\n",
      "Skew:                          -1.038   Prob(JB):                     2.56e-05\n",
      "Kurtosis:                       5.895   Cond. No.                     1.63e+16\n",
      "==============================================================================\n",
      "\n",
      "Warnings:\n",
      "[1] Standard Errors assume that the covariance matrix of the errors is correctly specified.\n",
      "[2] The smallest eigenvalue is 2.61e-31. This might indicate that there are\n",
      "strong multicollinearity problems or that the design matrix is singular.\n"
     ]
    }
   ],
   "source": [
    "X_opt = [0,1,2,3,4,6]\n",
    "regressor_OLS = sm.OLS(Y_train, X_train[:,X_opt]).fit()\n",
    "print(regressor_OLS.summary())"
   ]
  },
  {
   "cell_type": "markdown",
   "metadata": {},
   "source": [
    "The highest P-value is for the last feature, which is above our significance level of 0.05. Hence we remove that."
   ]
  },
  {
   "cell_type": "code",
   "execution_count": 22,
   "metadata": {},
   "outputs": [
    {
     "name": "stdout",
     "output_type": "stream",
     "text": [
      "                            OLS Regression Results                            \n",
      "==============================================================================\n",
      "Dep. Variable:                      y   R-squared:                       0.945\n",
      "Model:                            OLS   Adj. R-squared:                  0.940\n",
      "Method:                 Least Squares   F-statistic:                     206.1\n",
      "Date:                Fri, 15 Nov 2019   Prob (F-statistic):           1.02e-22\n",
      "Time:                        00:42:49   Log-Likelihood:                -423.08\n",
      "No. Observations:                  40   AIC:                             854.2\n",
      "Df Residuals:                      36   BIC:                             860.9\n",
      "Df Model:                           3                                         \n",
      "Covariance Type:            nonrobust                                         \n",
      "==============================================================================\n",
      "                 coef    std err          t      P>|t|      [0.025      0.975]\n",
      "------------------------------------------------------------------------------\n",
      "const       8.211e+04   1209.854     67.870      0.000    7.97e+04    8.46e+04\n",
      "x1          2.715e+04   2169.046     12.517      0.000    2.28e+04    3.15e+04\n",
      "x2          2.763e+04   2543.435     10.865      0.000    2.25e+04    3.28e+04\n",
      "x3          2.733e+04   2268.919     12.045      0.000    2.27e+04    3.19e+04\n",
      "x4          3.932e+04   1608.085     24.452      0.000    3.61e+04    4.26e+04\n",
      "==============================================================================\n",
      "Omnibus:                       12.937   Durbin-Watson:                   2.333\n",
      "Prob(Omnibus):                  0.002   Jarque-Bera (JB):               15.674\n",
      "Skew:                          -0.991   Prob(JB):                     0.000395\n",
      "Kurtosis:                       5.341   Cond. No.                     1.35e+16\n",
      "==============================================================================\n",
      "\n",
      "Warnings:\n",
      "[1] Standard Errors assume that the covariance matrix of the errors is correctly specified.\n",
      "[2] The smallest eigenvalue is 2.95e-31. This might indicate that there are\n",
      "strong multicollinearity problems or that the design matrix is singular.\n"
     ]
    }
   ],
   "source": [
    "X_opt = [0,1,2,3,4]\n",
    "regressor_OLS = sm.OLS(Y_train, X_train[:,X_opt]).fit()\n",
    "print(regressor_OLS.summary())"
   ]
  },
  {
   "cell_type": "markdown",
   "metadata": {},
   "source": [
    "Now we see that all features are below our significance level, which means we can no longer eliminate features. The first 3 features x1,x2 and x3 are binary variables for the feature ‘State’ after One-Hot encoding. Hence, we’re essentially left with 2 features — State and R&D Spend. With these features, we’ll now create a Linear Model with Sklearn and test its score:"
   ]
  },
  {
   "cell_type": "code",
   "execution_count": 24,
   "metadata": {},
   "outputs": [],
   "source": [
    "from sklearn.preprocessing import StandardScaler\n",
    "from sklearn.model_selection import train_test_split"
   ]
  },
  {
   "cell_type": "code",
   "execution_count": 26,
   "metadata": {},
   "outputs": [],
   "source": [
    "X_train, X_test, Y_train, Y_test = train_test_split(X[:,[0,1,2,3]], y, test_size = 0.2, random_state = 0)"
   ]
  },
  {
   "cell_type": "code",
   "execution_count": 27,
   "metadata": {},
   "outputs": [],
   "source": [
    "scaler = StandardScaler()\n",
    "X_train[:,3:] = scaler.fit_transform(X_train[:,3:])\n",
    "X_test[:,3:] = scaler.transform(X_test[:,3:])"
   ]
  },
  {
   "cell_type": "code",
   "execution_count": 28,
   "metadata": {},
   "outputs": [
    {
     "name": "stdout",
     "output_type": "stream",
     "text": [
      "Model score: 0.9471689304016889\n"
     ]
    }
   ],
   "source": [
    "from sklearn.linear_model import LinearRegression\n",
    "model = LinearRegression()\n",
    "model.fit(X_train,Y_train)\n",
    "print('Model score: '+str(model.score(X_test,Y_test)))"
   ]
  },
  {
   "cell_type": "code",
   "execution_count": 30,
   "metadata": {},
   "outputs": [],
   "source": [
    "y_pred = model.predict(X_test)"
   ]
  },
  {
   "cell_type": "code",
   "execution_count": null,
   "metadata": {},
   "outputs": [],
   "source": []
  }
 ],
 "metadata": {
  "kernelspec": {
   "display_name": "Python 3",
   "language": "python",
   "name": "python3"
  },
  "language_info": {
   "codemirror_mode": {
    "name": "ipython",
    "version": 3
   },
   "file_extension": ".py",
   "mimetype": "text/x-python",
   "name": "python",
   "nbconvert_exporter": "python",
   "pygments_lexer": "ipython3",
   "version": "3.7.3"
  }
 },
 "nbformat": 4,
 "nbformat_minor": 2
}
